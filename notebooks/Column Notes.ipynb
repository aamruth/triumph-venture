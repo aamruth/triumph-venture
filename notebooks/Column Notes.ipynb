{
 "cells": [
  {
   "cell_type": "markdown",
   "id": "52377bb0",
   "metadata": {},
   "source": [
    "# Columns\n",
    "\n",
    "- permalink\n",
    "- name\n",
    "- homepage_url\n",
    "- category_list\n",
    "- ' market '\n",
    "- ' funding_total_usd '\n",
    "- 'status'\n",
    "- 'country_code'\n",
    "- 'state_code'\n",
    "- 'region'\n",
    "- 'city'\n",
    "- 'funding_rounds'\n",
    "- 'founded_at'\n",
    "- 'founded_month'\n",
    "- 'founded_quarter'\n",
    "- 'founded_year'\n",
    "- 'first_funding_at'\n",
    "- 'last_funding_at'\n",
    "- 'seed'\n",
    "- 'venture'\n",
    "- 'equity_crowdfunding'\n",
    "- 'undisclosed'\n",
    "- 'convertible_note'\n",
    "- 'debt_financing'\n",
    "- 'angel'\n",
    "- 'grant'\n",
    "- 'private_equity'\n",
    "- 'post_ipo_equity'\n",
    "- 'post_ipo_debt'\n",
    "- 'secondary_market'\n",
    "- 'product_crowdfunding'\n",
    "- 'round_A'\n",
    "- 'round_B'\n",
    "- 'round_C'\n",
    "- 'round_D'\n",
    "- 'round_E'\n",
    "- 'round_F'\n",
    "- 'round_G'\n",
    "- 'round_H'"
   ]
  },
  {
   "cell_type": "markdown",
   "id": "06c2027a",
   "metadata": {},
   "source": [
    "## Remove columns\n",
    "\n",
    "permalink\n",
    "'state_code'\n",
    "'region'\n",
    "'city'\n",
    "'founded_month'\n",
    "'founded_quarter'\n",
    "'founded_year'\n",
    "'seed'\n",
    "'venture'\n",
    "'equity_crowdfunding'\n",
    "'undisclosed'\n",
    "'convertible_note'\n",
    "'debt_financing'\n",
    "'angel'\n",
    "'grant'\n",
    "'private_equity'\n",
    "'post_ipo_equity'\n",
    "'post_ipo_debt'\n",
    "'secondary_market'\n",
    "'product_crowdfunding'\n",
    "'round_A'\n",
    "'round_B'\n",
    "'round_C'\n",
    "'round_D'\n",
    "'round_E'\n",
    "'round_F'\n",
    "'round_G'\n",
    "'round_H'"
   ]
  },
  {
   "cell_type": "markdown",
   "id": "2abbd1fe",
   "metadata": {},
   "source": [
    "### Keep\n",
    "\n",
    "- name\n",
    "- homepage_url\n",
    "- category_list\n",
    "- ' market '\n",
    "- ' funding_total_usd '\n",
    "- 'status'\n",
    "- 'country_code'\n",
    "- 'funding_rounds'\n",
    "- 'founded_at'\n",
    "- 'first_funding_at'\n",
    "- 'last_funding_at'"
   ]
  },
  {
   "cell_type": "markdown",
   "id": "efe19695",
   "metadata": {},
   "source": [
    "### Clean name\n",
    "\n",
    "- market\n",
    "- funding_total_usd"
   ]
  },
  {
   "cell_type": "code",
   "execution_count": null,
   "id": "22e9ca23",
   "metadata": {},
   "outputs": [],
   "source": [
    "name\n",
    "homepage_url\n",
    "category_list\n",
    "' market '\n",
    "' funding_total_usd '\n",
    "'status'\n",
    "'country_code'\n",
    "'funding_rounds'\n",
    "'founded_at'\n",
    "'first_funding_at'\n",
    "'last_funding_at'"
   ]
  },
  {
   "cell_type": "markdown",
   "id": "fde65727",
   "metadata": {},
   "source": [
    "### Permalink\n",
    "\n",
    "- Keep: Yes/No\n",
    "- Name clean: Yes/No\n",
    "- Clean data: Yes/No"
   ]
  },
  {
   "cell_type": "markdown",
   "id": "e0357972",
   "metadata": {},
   "source": [
    "### Name\n",
    "\n",
    "- Keep: Yes/No\n",
    "- Name clean: Yes/No\n",
    "- Clean data: Yes/No"
   ]
  },
  {
   "cell_type": "markdown",
   "id": "72597a63",
   "metadata": {},
   "source": [
    "### Homepage url\n",
    "\n",
    "- Keep: Yes/No\n",
    "- Name clean: Yes/No\n",
    "- Clean data: Yes/No"
   ]
  },
  {
   "cell_type": "markdown",
   "id": "27f8f670",
   "metadata": {},
   "source": [
    "### Category List\n",
    "\n",
    "- Keep: Yes/No\n",
    "- Name clean: Yes/No\n",
    "- Clean data: Yes/No"
   ]
  },
  {
   "cell_type": "markdown",
   "id": "70397089",
   "metadata": {},
   "source": [
    "### Market\n",
    "\n",
    "- Keep: Yes/No\n",
    "- Name clean: Yes/No\n",
    "- Clean data: Yes/No"
   ]
  }
 ],
 "metadata": {
  "kernelspec": {
   "display_name": "Python 3 (ipykernel)",
   "language": "python",
   "name": "python3"
  },
  "language_info": {
   "codemirror_mode": {
    "name": "ipython",
    "version": 3
   },
   "file_extension": ".py",
   "mimetype": "text/x-python",
   "name": "python",
   "nbconvert_exporter": "python",
   "pygments_lexer": "ipython3",
   "version": "3.10.6"
  },
  "toc": {
   "base_numbering": 1,
   "nav_menu": {},
   "number_sections": true,
   "sideBar": true,
   "skip_h1_title": false,
   "title_cell": "Table of Contents",
   "title_sidebar": "Contents",
   "toc_cell": false,
   "toc_position": {},
   "toc_section_display": true,
   "toc_window_display": false
  }
 },
 "nbformat": 4,
 "nbformat_minor": 5
}
