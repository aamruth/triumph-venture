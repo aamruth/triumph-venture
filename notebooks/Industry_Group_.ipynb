{
 "cells": [
  {
   "cell_type": "code",
   "execution_count": 1,
   "id": "35a13906",
   "metadata": {},
   "outputs": [],
   "source": [
    "import pandas as pd\n",
    "import matplotlib.pyplot as plt\n",
    "import ydata_profiling as pp\n",
    "import seaborn as sns\n",
    "import warnings\n",
    "import os\n",
    "from sklearn.base import BaseEstimator, TransformerMixin\n",
    "from sklearn.compose import make_column_transformer, make_column_selector\n",
    "from sklearn.ensemble import AdaBoostRegressor, VotingRegressor, GradientBoostingRegressor, StackingRegressor, RandomForestRegressor\n",
    "from sklearn.feature_selection import SelectPercentile, mutual_info_regression, VarianceThreshold, SelectFromModel\n",
    "from sklearn.impute import SimpleImputer, KNNImputer\n",
    "from sklearn.linear_model import Ridge, LinearRegression,LogisticRegression\n",
    "from sklearn.metrics import make_scorer, mean_squared_error, mean_squared_log_error\n",
    "from sklearn.model_selection import train_test_split, cross_val_score, GridSearchCV, RandomizedSearchCV\n",
    "from sklearn.neighbors import KNeighborsRegressor\n",
    "from sklearn.pipeline import make_pipeline\n",
    "from sklearn.preprocessing import MinMaxScaler, OneHotEncoder, OrdinalEncoder\n",
    "from sklearn.svm import SVR\n",
    "from sklearn.tree import DecisionTreeRegressor\n",
    "from sklearn.ensemble import RandomForestClassifier\n",
    "from sklearn.metrics import accuracy_score\n",
    "from sklearn.preprocessing import RobustScaler\n",
    "\n",
    "data = pd.read_csv('../triumphventure/data/clean_data.csv', encoding= 'unicode_escape')"
   ]
  },
  {
   "cell_type": "code",
   "execution_count": 2,
   "id": "05a9b631",
   "metadata": {},
   "outputs": [],
   "source": [
    "# Drop the unnamed column\n",
    "data = data.drop(columns=['Unnamed: 0'])"
   ]
  },
  {
   "cell_type": "code",
   "execution_count": 3,
   "id": "d9af0680",
   "metadata": {},
   "outputs": [],
   "source": [
    "#X_strong_features_test = X_test_new.drop(columns=list(weak_features))\n",
    "y_new = data[\"status\"].astype(int)\n",
    "X_new = data.drop(columns=[\"status\"])\n",
    "from sklearn.model_selection import train_test_split\n",
    "# Split data into training and testing sets\n",
    "X_train, X_test, y_train, y_test = train_test_split(X_new, y_new, test_size=0.2, random_state=42)\n",
    "\n"
   ]
  },
  {
   "cell_type": "code",
   "execution_count": 4,
   "id": "4be1bf0e",
   "metadata": {},
   "outputs": [],
   "source": [
    "class columnDropperTransformer(TransformerMixin, BaseEstimator):\n",
    "    def __init__(self):\n",
    "        self.weak_features = ['Industry_Group_Gaming', 'Industry_Group_Professional Services',\n",
    "       'Industry_Group_Financial Services', 'Industry_Group_Advertising',\n",
    "       'Industry_Group_Mobile', 'Industry_Group_Media and Entertainment',\n",
    "       'Industry_Group_Privacy and Security', 'Industry_Group_Education',\n",
    "       'Industry_Group_Content and Publishing',\n",
    "       'Industry_Group_Sales and Marketing',\n",
    "       'Industry_Group_Manufacturing',\n",
    "       'Industry_Group_Consumer Electronics',\n",
    "       'Industry_Group_Data and Analytics',\n",
    "       'Industry_Group_Transportation', 'Industry_Group_Hardware',\n",
    "       'Industry_Group_Clothing and Apparel',\n",
    "       'Industry_Group_Real Estate', 'Industry_Group_Design',\n",
    "       'Industry_Group_Food and Beverage',\n",
    "       'Industry_Group_Travel and Tourism', 'Industry_Group_Platforms',\n",
    "       'Industry_Group_Sports', 'Industry_Group_Events',\n",
    "       'Industry_Group_Consumer Goods',\n",
    "       'Industry_Group_Administrative Services', 'Industry_Group_Energy',\n",
    "       'Industry_Group_Sustainability',\n",
    "       'Industry_Group_Messaging and Telecommunication',\n",
    "       'Industry_Group_Navigation and Mapping',\n",
    "       'Industry_Group_Agriculture and Farming',\n",
    "       'Industry_Group_Natural Resources',\n",
    "       'Industry_Group_Government and Military', 'Industry_Group_Apps',\n",
    "       'Industry_Group_Artificial Intelligence',\n",
    "       'Industry_Group_Science and Engineering']\n",
    "    \n",
    "    def fit(self,X,y=None):\n",
    "        return self\n",
    "    def transform(self,X,y=None):\n",
    "        return X.drop(self.weak_features, axis=1)"
   ]
  },
  {
   "cell_type": "code",
   "execution_count": 5,
   "id": "038f86f2",
   "metadata": {},
   "outputs": [],
   "source": [
    "preproc_numerical= make_pipeline(\n",
    "    SimpleImputer(),\n",
    "    RobustScaler()\n",
    ")\n",
    "\n",
    "preproc_categorical = make_pipeline(\n",
    "    SimpleImputer(strategy=\"most_frequent\"),\n",
    "    OneHotEncoder(handle_unknown=\"ignore\",sparse=False)\n",
    ")\n",
    "\n",
    "preproc = make_column_transformer(\n",
    "    (preproc_numerical, make_column_selector(dtype_include=[\"int64\", \"float64\"])),\n",
    "    (preproc_categorical, make_column_selector(dtype_include=[\"object\"])), remainder=\"drop\")\n"
   ]
  },
  {
   "cell_type": "code",
   "execution_count": 6,
   "id": "c1c5ff69",
   "metadata": {},
   "outputs": [],
   "source": [
    "pipe_baseline = make_pipeline(preproc, RandomForestClassifier(random_state=42))"
   ]
  },
  {
   "cell_type": "code",
   "execution_count": 7,
   "id": "11e131eb",
   "metadata": {},
   "outputs": [
    {
     "name": "stderr",
     "output_type": "stream",
     "text": [
      "/Users/deepatamraparani/.pyenv/versions/3.10.6/envs/lewagon/lib/python3.10/site-packages/sklearn/preprocessing/_encoders.py:972: FutureWarning: `sparse` was renamed to `sparse_output` in version 1.2 and will be removed in 1.4. `sparse_output` is ignored unless you leave `sparse` to its default value.\n",
      "  warnings.warn(\n"
     ]
    },
    {
     "data": {
      "text/plain": [
       "array([[13.84375   ,  7.        ,  3.62323944, ...,  0.        ,\n",
       "         0.        ,  0.        ],\n",
       "       [-0.1911725 ,  0.        ,  0.        , ...,  0.        ,\n",
       "         0.        ,  0.        ],\n",
       "       [-0.13592313,  0.        ,  0.        , ...,  0.        ,\n",
       "         0.        ,  0.        ],\n",
       "       ...,\n",
       "       [-0.20416667,  1.        ,  0.10739437, ...,  0.        ,\n",
       "         0.        ,  0.        ],\n",
       "       [-0.10416667,  0.        ,  0.        , ...,  0.        ,\n",
       "         0.        ,  0.        ],\n",
       "       [-0.18007927,  1.        ,  0.25      , ...,  0.        ,\n",
       "         0.        ,  0.        ]])"
      ]
     },
     "execution_count": 7,
     "metadata": {},
     "output_type": "execute_result"
    }
   ],
   "source": [
    "preproc.fit_transform(X_train)"
   ]
  },
  {
   "cell_type": "code",
   "execution_count": 8,
   "id": "59d6660e",
   "metadata": {},
   "outputs": [],
   "source": [
    "new_col_names1 = preproc.named_transformers_['pipeline-1'][0].get_feature_names_out()\n",
    "\n",
    "new_col_names2 = preproc.named_transformers_['pipeline-2'][1].get_feature_names_out(['country_code','Industry_Group'])"
   ]
  },
  {
   "cell_type": "code",
   "execution_count": 9,
   "id": "6a0095d4",
   "metadata": {
    "scrolled": false
   },
   "outputs": [
    {
     "name": "stderr",
     "output_type": "stream",
     "text": [
      "/Users/deepatamraparani/.pyenv/versions/3.10.6/envs/lewagon/lib/python3.10/site-packages/sklearn/preprocessing/_encoders.py:972: FutureWarning: `sparse` was renamed to `sparse_output` in version 1.2 and will be removed in 1.4. `sparse_output` is ignored unless you leave `sparse` to its default value.\n",
      "  warnings.warn(\n"
     ]
    }
   ],
   "source": [
    "X_train_transformed = pd.DataFrame(preproc.fit_transform(X_train),columns=list(new_col_names1)+ list(new_col_names2))"
   ]
  },
  {
   "cell_type": "code",
   "execution_count": 10,
   "id": "a065cf28",
   "metadata": {},
   "outputs": [],
   "source": [
    "droppertranf = columnDropperTransformer()\n",
    "X_train_transformed = droppertranf.fit_transform(X_train_transformed)"
   ]
  },
  {
   "cell_type": "code",
   "execution_count": 11,
   "id": "c61577e2",
   "metadata": {},
   "outputs": [],
   "source": [
    "X_train_transformed.to_csv('clean_data_encoded.csv')"
   ]
  },
  {
   "cell_type": "code",
   "execution_count": 12,
   "id": "371c226e",
   "metadata": {},
   "outputs": [
    {
     "ename": "TypeError",
     "evalue": "Pipeline.fit() missing 1 required positional argument: 'X'",
     "output_type": "error",
     "traceback": [
      "\u001b[0;31m---------------------------------------------------------------------------\u001b[0m",
      "\u001b[0;31mTypeError\u001b[0m                                 Traceback (most recent call last)",
      "Cell \u001b[0;32mIn [12], line 1\u001b[0m\n\u001b[0;32m----> 1\u001b[0m \u001b[43mpipe_baseline\u001b[49m\u001b[38;5;241;43m.\u001b[39;49m\u001b[43mfit\u001b[49m\u001b[43m(\u001b[49m\u001b[43m)\u001b[49m\n",
      "File \u001b[0;32m~/.pyenv/versions/3.10.6/envs/lewagon/lib/python3.10/site-packages/sklearn/base.py:1151\u001b[0m, in \u001b[0;36m_fit_context.<locals>.decorator.<locals>.wrapper\u001b[0;34m(estimator, *args, **kwargs)\u001b[0m\n\u001b[1;32m   1144\u001b[0m     estimator\u001b[38;5;241m.\u001b[39m_validate_params()\n\u001b[1;32m   1146\u001b[0m \u001b[38;5;28;01mwith\u001b[39;00m config_context(\n\u001b[1;32m   1147\u001b[0m     skip_parameter_validation\u001b[38;5;241m=\u001b[39m(\n\u001b[1;32m   1148\u001b[0m         prefer_skip_nested_validation \u001b[38;5;129;01mor\u001b[39;00m global_skip_validation\n\u001b[1;32m   1149\u001b[0m     )\n\u001b[1;32m   1150\u001b[0m ):\n\u001b[0;32m-> 1151\u001b[0m     \u001b[38;5;28;01mreturn\u001b[39;00m \u001b[43mfit_method\u001b[49m\u001b[43m(\u001b[49m\u001b[43mestimator\u001b[49m\u001b[43m,\u001b[49m\u001b[43m \u001b[49m\u001b[38;5;241;43m*\u001b[39;49m\u001b[43margs\u001b[49m\u001b[43m,\u001b[49m\u001b[43m \u001b[49m\u001b[38;5;241;43m*\u001b[39;49m\u001b[38;5;241;43m*\u001b[39;49m\u001b[43mkwargs\u001b[49m\u001b[43m)\u001b[49m\n",
      "\u001b[0;31mTypeError\u001b[0m: Pipeline.fit() missing 1 required positional argument: 'X'"
     ]
    }
   ],
   "source": [
    "#pipe_baseline.fit(X_train_transformed)"
   ]
  }
 ],
 "metadata": {
  "kernelspec": {
   "display_name": "Python 3 (ipykernel)",
   "language": "python",
   "name": "python3"
  },
  "language_info": {
   "codemirror_mode": {
    "name": "ipython",
    "version": 3
   },
   "file_extension": ".py",
   "mimetype": "text/x-python",
   "name": "python",
   "nbconvert_exporter": "python",
   "pygments_lexer": "ipython3",
   "version": "3.10.6"
  },
  "toc": {
   "base_numbering": 1,
   "nav_menu": {},
   "number_sections": true,
   "sideBar": true,
   "skip_h1_title": false,
   "title_cell": "Table of Contents",
   "title_sidebar": "Contents",
   "toc_cell": false,
   "toc_position": {},
   "toc_section_display": true,
   "toc_window_display": false
  }
 },
 "nbformat": 4,
 "nbformat_minor": 5
}
