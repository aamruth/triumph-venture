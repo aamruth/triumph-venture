{
 "cells": [
  {
   "cell_type": "code",
   "execution_count": null,
   "id": "00cbca92",
   "metadata": {},
   "outputs": [],
   "source": [
    "import pandas as pd\n",
    "import matplotlib.pyplot as plt\n",
    "import ydata_profiling as pp\n",
    "import seaborn as sns\n",
    "import warnings\n",
    "import os\n",
    "\n",
    "data = pd.read_csv('../data/Start_up_data.csv', encoding= 'unicode_escape')"
   ]
  },
  {
   "cell_type": "code",
   "execution_count": null,
   "id": "e2596c37",
   "metadata": {},
   "outputs": [],
   "source": [
    "data = data.iloc[:49438]"
   ]
  },
  {
   "cell_type": "code",
   "execution_count": null,
   "id": "2c5c7a19",
   "metadata": {},
   "outputs": [],
   "source": [
    "data.columns = data.columns.str.replace(' ', '')\n",
    "data.columns = data.columns.str.strip()\n",
    "data.columns = data.columns.str.replace('[^a-zA-Z0-9_]', '', regex=True)\n",
    "data = data.dropna(subset=['name'])\n",
    "data['homepage_url'] = data['homepage_url'].fillna('Website not Provided')\n",
    "columns_to_remove = [\n",
    "    'permalink', 'state_code', 'region', 'city', 'founded_month',\n",
    "    'founded_quarter', 'founded_year', 'seed', 'venture', 'equity_crowdfunding',\n",
    "    'undisclosed', 'convertible_note', 'debt_financing', 'angel', 'grant',\n",
    "    'private_equity', 'post_ipo_equity', 'post_ipo_debt', 'secondary_market',\n",
    "    'product_crowdfunding', 'round_A', 'round_B', 'round_C', 'round_D', 'round_E',\n",
    "    'round_F', 'round_G', 'round_H'\n",
    "]\n",
    "data = data.drop(columns=columns_to_remove, axis=1)"
   ]
  },
  {
   "cell_type": "code",
   "execution_count": null,
   "id": "fe56f559",
   "metadata": {},
   "outputs": [],
   "source": [
    "data.columns"
   ]
  },
  {
   "cell_type": "code",
   "execution_count": null,
   "id": "73c8e3f7",
   "metadata": {},
   "outputs": [],
   "source": [
    "data = data.dropna(subset=['market'])\n",
    "data = data.dropna(subset=['status'])"
   ]
  },
  {
   "cell_type": "code",
   "execution_count": null,
   "id": "a34c56d9",
   "metadata": {},
   "outputs": [],
   "source": [
    "data['funding_total_usd'] = data['funding_total_usd'].str.replace(',', '')\n",
    "data.loc[data['country_code'] != 'USA', 'country_code'] = 'Other'"
   ]
  },
  {
   "cell_type": "code",
   "execution_count": null,
   "id": "b93e5e07",
   "metadata": {},
   "outputs": [],
   "source": [
    "admin_services = str('Employer Benefits Programs, Human Resource Automation, Corporate IT, Distribution, Service Providers, Archiving Service, Call Center, Collection Agency, College Recruiting, Courier Service, Debt Collections, Delivery, Document Preparation, Employee Benefits, Extermination Service, Facilities Support Services, Housekeeping Service, Human Resources, Knowledge Management, Office Administration, Packaging Services, Physical Security, Project Management, Staffing Agency, Trade Shows, Virtual Workforce').split(', ')\n",
    "advertising = str('Creative Industries, Promotional, Advertising Ad Exchange, Ad Network, Ad Retargeting, Ad Server, Ad Targeting, Advertising, Advertising Platforms, Affiliate Marketing, Local Advertising, Mobile Advertising, Outdoor Advertising, SEM, Social Media Advertising, Video Advertising').split(', ')\n",
    "agriculture = str('Agriculture, AgTech, Animal Feed, Aquaculture, Equestrian, Farming, Forestry, Horticulture, Hydroponics, Livestock').split(', ')\n",
    "app = str('Application Performance Monitoring, App Stores, Application Platforms, Enterprise Application, App Discovery, Apps, Consumer Applications, Enterprise Applications, Mobile Apps, Reading Apps, Web Apps').split(', ')\n",
    "artificial_intelli = str('Artificial Intelligence, Intelligent Systems, Machine Learning, Natural Language Processing, Predictive Analytics').split(', ')\n",
    "biotechnology = str('Synthetic Biology, Bio-Pharm, Bioinformatics, Biometrics, Biopharma, Biotechnology, Genetics, Life Science, Neuroscience, Quantified Self').split(', ')\n",
    "clothing = str('Fashion, Laundry and Dry-cleaning, Lingerie, Shoes').split(', ')\n",
    "shopping = str('Consumer Behavior, Customer Support Tools, Discounts, Reviews and Recommendations, Auctions, Classifieds, Collectibles, Consumer Reviews, Coupons, E-Commerce, E-Commerce Platforms, Flash Sale, Gift, Gift Card, Gift Exchange, Gift Registry, Group Buying, Local Shopping, Made to Order, Marketplace, Online Auctions, Personalization, Point of Sale, Price Comparison, Rental, Retail, Retail Technology, Shopping, Shopping Mall, Social Shopping, Sporting Goods, Vending and Concessions, Virtual Goods, Wholesale').split(', ')\n",
    "community = str(\"Self Development, Sex, Forums, Match-Making, Babies, Identity, Women, Kids, Entrepreneur, Networking, Adult, Baby, Cannabis, Children, Communities, Dating, Elderly, Family, Funerals, Humanitarian, Leisure, LGBT, Lifestyle, Men's, Online Forums, Parenting, Pet, Private Social Networking, Professional Networking, Q&A, Religion, Retirement, Sex Industry, Sex Tech, Social, Social Entrepreneurship, Teenagers, Virtual World, Wedding, Women's, Young Adults\").split(', ')\n",
    "electronics  = str('Mac, iPod Touch, Tablets, iPad, iPhone, Computer, Consumer Electronics, Drones, Electronics, Google Glass, Mobile Devices, Nintendo, Playstation, Roku, Smart Home, Wearables, Windows Phone, Xbox').split(', ')\n",
    "consumer_goods= str('Commodities, Sunglasses, Groceries, Batteries, Cars, Beauty, Comics, Consumer Goods, Cosmetics, DIY, Drones, Eyewear, Fast-Moving Consumer Goods, Flowers, Furniture, Green Consumer Goods, Handmade, Jewelry, Lingerie, Shoes, Tobacco, Toys').split(', ')\n",
    "content = str('E-Books, MicroBlogging, Opinions, Blogging Platforms, Content Delivery Network, Content Discovery, Content Syndication, Creative Agency, DRM, EBooks, Journalism, News, Photo Editing, Photo Sharing, Photography, Printing, Publishing, Social Bookmarking, Video Editing, Video Streaming').split(', ')\n",
    "datagroup = str('Optimization, A/B Testing, Analytics, Application Performance Management, Artificial Intelligence, Big Data, Bioinformatics, Biometrics, Business Intelligence, Consumer Research, Data Integration, Data Mining, Data Visualization, Database, Facial Recognition, Geospatial, Image Recognition, Intelligent Systems, Location Based Services, Machine Learning, Market Research, Natural Language Processing, Predictive Analytics, Product Research, Quantified Self, Speech Recognition, Test and Measurement, Text Analytics, Usability Testing').split(', ')\n",
    "design = str('Visualization, Graphics, Design, Designers, CAD, Consumer Research, Data Visualization, Fashion, Graphic Design, Human Computer Interaction, Industrial Design, Interior Design, Market Research, Mechanical Design, Product Design, Product Research, Usability Testing, UX Design, Web Design').split(', ')\n",
    "education = str('Universities, College Campuses, University Students, High Schools, All Students, Colleges, Alumni, Charter Schools, College Recruiting, Continuing Education, Corporate Training, E-Learning, EdTech, Education, Edutainment, Higher Education, Language Learning, MOOC, Music Education, Personal Development, Primary Education, Secondary Education, Skill Assessment, STEM Education, Textbook, Training, Tutoring, Vocational Education').split(', ')\n",
    "energy = str('Gas, Natural Gas Uses, Oil, Oil & Gas, Battery, Biofuel, Biomass Energy, Clean Energy, Electrical Distribution, Energy, Energy Efficiency, Energy Management, Energy Storage, Fossil Fuels, Fuel, Fuel Cell, Oil and Gas, Power Grid, Renewable Energy, Solar, Wind Energy').split(', ')\n",
    "events = str('Concerts, Event Management, Event Promotion, Events, Nightclubs, Nightlife, Reservations, Ticketing, Wedding').split(', ')\n",
    "financial = str('Debt Collecting, P2P Money Transfer, Investment Management, Trading, Accounting, Angel Investment, Asset Management, Auto Insurance, Banking, Bitcoin, Commercial Insurance, Commercial Lending, Consumer Lending, Credit, Credit Bureau, Credit Cards, Crowdfunding, Cryptocurrency, Debit Cards, Debt Collections, Finance, Financial Exchanges, Financial Services, FinTech, Fraud Detection, Funding Platform, Gift Card, Health Insurance, Hedge Funds, Impact Investing, Incubators, Insurance, InsurTech, Leasing, Lending, Life Insurance, Micro Lending, Mobile Payments, Payments, Personal Finance, Prediction Markets, Property Insurance, Real Estate Investment, Stock Exchanges, Trading Platform, Transaction Processing, Venture Capital, Virtual Currency, Wealth Management').split(', ')\n",
    "food = str('Specialty Foods, Bakery, Brewing, Cannabis, Catering, Coffee, Confectionery, Cooking, Craft Beer, Dietary Supplements, Distillery, Farmers Market, Food and Beverage, Food Delivery, Food Processing, Food Trucks, Fruit, Grocery, Nutrition, Organic Food, Recipes, Restaurants, Seafood, Snack Food, Tea, Tobacco, Wine And Spirits, Winery').split(', ')\n",
    "gaming = str('Game, Games, Casual Games, Console Games, Contests, Fantasy Sports, Gambling, Gamification, Gaming, MMO Games, Online Games, PC Games, Serious Games, Video Games').split(', ')\n",
    "government = str('Polling, Governance, CivicTech, Government, GovTech, Law Enforcement, Military, National Security, Politics, Public Safety, Social Assistance').split(', ')\n",
    "hardware= str('Cable, 3D, 3D Technology, Application Specific Integrated Circuit (ASIC), Augmented Reality, Cloud Infrastructure, Communication Hardware, Communications Infrastructure, Computer, Computer Vision, Consumer Electronics, Data Center, Data Center Automation, Data Storage, Drone Management, Drones, DSP, Electronic Design Automation (EDA), Electronics, Embedded Systems, Field-Programmable Gate Array (FPGA), Flash Storage, Google Glass, GPS, GPU, Hardware, Industrial Design, Laser, Lighting, Mechanical Design, Mobile Devices, Network Hardware, NFC, Nintendo, Optical Communication, Playstation, Private Cloud, Retail Technology, RFID, RISC, Robotics, Roku, Satellite Communication, Semiconductor, Sensor, Sex Tech, Telecommunications, Video Conferencing, Virtual Reality, Virtualization, Wearables, Windows Phone, Wireless, Xbox').split(', ')\n",
    "health_care = str('Senior Health, Physicians, Electronic Health Records, Doctors, Healthcare Services, Diagnostics, Alternative Medicine, Assisted Living, Assistive Technology, Biopharma, Cannabis, Child Care, Clinical Trials, Cosmetic Surgery, Dental, Diabetes, Dietary Supplements, Elder Care, Electronic Health Record (EHR), Emergency Medicine, Employee Benefits, Fertility, First Aid, Funerals, Genetics, Health Care, Health Diagnostics, Home Health Care, Hospital, Medical, Medical Device, mHealth, Nursing and Residential Care, Nutraceutical, Nutrition, Outpatient Care, Personal Health, Pharmaceutical, Psychology, Rehabilitation, Therapeutics, Veterinary, Wellness').split(', ')\n",
    "it = str('Distributors, Algorithms, ICT, M2M, Technology, Business Information Systems, CivicTech, Cloud Data Services, Cloud Management, Cloud Security, CMS, Contact Management, CRM, Cyber Security, Data Center, Data Center Automation, Data Integration, Data Mining, Data Visualization, Document Management, E-Signature, Email, GovTech, Identity Management, Information and Communications Technology (ICT), Information Services, Information Technology, Intrusion Detection, IT Infrastructure, IT Management, Management Information Systems, Messaging, Military, Network Security, Penetration Testing, Private Cloud, Reputation, Sales Automation, Scheduling, Social CRM, Spam Filtering, Technical Support, Unified Communications, Video Chat, Video Conferencing, Virtualization, VoIP').split(', ')\n",
    "internet = str('Online Identity, Cyber, Portals, Web Presence Management, Domains, Tracking, Web Tools, Curated Web, Search, Cloud Computing, Cloud Data Services, Cloud Infrastructure, Cloud Management, Cloud Storage, Darknet, Domain Registrar, E-Commerce Platforms, Ediscovery, Email, Internet, Internet of Things, ISP, Location Based Services, Messaging, Music Streaming, Online Forums, Online Portals, Private Cloud, Product Search, Search Engine, SEM, Semantic Search, Semantic Web, SEO, SMS, Social Media, Social Media Management, Social Network, Unified Communications, Vertical Search, Video Chat, Video Conferencing, Visual Search, VoIP, Web Browsers, Web Hosting').split(', ')\n",
    "invest = str('Angel Investment, Banking, Commercial Lending, Consumer Lending, Credit, Credit Cards, Financial Exchanges, Funding Platform, Hedge Funds, Impact Investing, Incubators, Micro Lending, Stock Exchanges, Trading Platform, Venture Capital').split(', ')\n",
    "manufacturing = str('Innovation Engineering, Civil Engineers, Heavy Industry, Engineering Firms, Systems, 3D Printing, Advanced Materials, Foundries, Industrial, Industrial Automation, Industrial Engineering, Industrial Manufacturing, Machinery Manufacturing, Manufacturing, Paper Manufacturing, Plastics and Rubber Manufacturing, Textiles, Wood Processing').split(', ')\n",
    "media = str('Writers, Creative, Television, Entertainment, Media, Advice, Animation, Art, Audio, Audiobooks, Blogging Platforms, Broadcasting, Celebrity, Concerts, Content, Content Creators, Content Discovery, Content Syndication, Creative Agency, Digital Entertainment, Digital Media, DRM, EBooks, Edutainment, Event Management, Event Promotion, Events, Film, Film Distribution, Film Production, Guides, In-Flight Entertainment, Independent Music, Internet Radio, Journalism, Media and Entertainment, Motion Capture, Music, Music Education, Music Label, Music Streaming, Music Venues, Musical Instruments, News, Nightclubs, Nightlife, Performing Arts, Photo Editing, Photo Sharing, Photography, Podcast, Printing, Publishing, Reservations, Social Media, Social News, Theatre, Ticketing, TV, TV Production, Video, Video Editing, Video on Demand, Video Streaming, Virtual World').split(', ')\n",
    "message = str('Unifed Communications, Chat, Email, Meeting Software, Messaging, SMS, Unified Communications, Video Chat, Video Conferencing, VoIP, Wired Telecommunications').split(', ')\n",
    "mobile = str('Android, Google Glass, iOS, mHealth, Mobile, Mobile Apps, Mobile Devices, Mobile Payments, Windows Phone, Wireless').split(', ')\n",
    "music = str('Audio, Audiobooks, Independent Music, Internet Radio, Music, Music Education, Music Label, Music Streaming, Musical Instruments, Podcast').split(', ')\n",
    "resource = str('Biofuel, Biomass Energy, Fossil Fuels, Mineral, Mining, Mining Technology, Natural Resources, Oil and Gas, Precious Metals, Solar, Timber, Water, Wind Energy').split(', ')\n",
    "navigation = str('Maps, Geospatial, GPS, Indoor Positioning, Location Based Services, Mapping Services, Navigation').split(', ')\n",
    "other = str('Mass Customization, Monetization, Testing, Subscription Businesses, Mobility, Incentives, Peer-to-Peer, Nonprofits, Alumni, Association, B2B, B2C, Blockchain, Charity, Collaboration, Collaborative Consumption, Commercial, Consumer, Crowdsourcing, Customer Service, Desktop Apps, Emerging Markets, Enterprise, Ethereum, Franchise, Freemium, Generation Y, Generation Z, Homeless Shelter, Infrastructure, Knowledge Management, LGBT Millennials, Non Profit, Peer to Peer, Professional Services, Project Management, Real Time, Retirement, Service Industry, Sharing Economy, Small and Medium Businesses, Social Bookmarking, Social Impact, Subscription Service, Technical Support, Underserved Children, Universities').split(', ')\n",
    "payment = str('Billing, Bitcoin, Credit Cards, Cryptocurrency, Debit Cards, Fraud Detection, Mobile Payments, Payments, Transaction Processing, Virtual Currency').split(', ')\n",
    "platforms = str('Development Platforms, Android, Facebook, Google, Google Glass, iOS, Linux, macOS, Nintendo, Operating Systems, Playstation, Roku, Tizen, Twitter, WebOS, Windows, Windows Phone, Xbox').split(', ')\n",
    "privacy = str('Digital Rights Management, Personal Data, Cloud Security, Corrections Facilities, Cyber Security, DRM, E-Signature, Fraud Detection, Homeland Security, Identity Management, Intrusion Detection, Law Enforcement, Network Security, Penetration Testing, Physical Security, Privacy, Security').split(', ')\n",
    "services = str('Funeral Industry, English-Speaking, Spas, Plumbers, Service Industries, Staffing Firms, Translation, Career Management, Business Services, Services, Accounting, Business Development, Career Planning, Compliance, Consulting, Customer Service, Employment, Environmental Consulting, Field Support, Freelance, Intellectual Property, Innovation Management, Legal, Legal Tech, Management Consulting, Outsourcing, Professional Networking, Quality Assurance, Recruiting, Risk Management, Social Recruiting, Translation Service').split(', ')\n",
    "realestate= str('Office Space, Self Storage, Brokers, Storage, Home Owners, Self Storage , Realtors, Home & Garden, Utilities, Home Automation, Architecture, Building Maintenance, Building Material, Commercial Real Estate, Construction, Coworking, Facility Management, Fast-Moving Consumer Goods, Green Building, Home and Garden, Home Decor, Home Improvement, Home Renovation, Home Services, Interior Design, Janitorial Service, Landscaping, Property Development, Property Management, Real Estate, Real Estate Investment, Rental Property, Residential, Self-Storage, Smart Building, Smart Cities, Smart Home, Timeshare, Vacation Rental').split(', ')\n",
    "sales = str('Advertising, Affiliate Marketing, App Discovery, App Marketing, Brand Marketing, Cause Marketing, Content Marketing, CRM, Digital Marketing, Digital Signage, Direct Marketing, Direct Sales, Email Marketing, Lead Generation, Lead Management, Local, Local Advertising, Local Business, Loyalty Programs, Marketing, Marketing Automation, Mobile Advertising, Multi-level Marketing, Outdoor Advertising, Personal Branding, Public Relations, Sales, Sales Automation, SEM, SEO, Social CRM, Social Media Advertising, Social Media Management, Social Media Marketing, Sponsorship, Video Advertising').split(', ')\n",
    "science = str('Face Recognition, New Technologies, Advanced Materials, Aerospace, Artificial Intelligence, Bioinformatics, Biometrics, Biopharma, Biotechnology, Chemical, Chemical Engineering, Civil Engineering, Embedded Systems, Environmental Engineering, Human Computer Interaction, Industrial Automation, Industrial Engineering, Intelligent Systems, Laser, Life Science, Marine Technology, Mechanical Engineering, Nanotechnology, Neuroscience, Nuclear, Quantum Computing, Robotics, Semiconductor, Software Engineering, STEM Education').split(', ')\n",
    "software = str('Business Productivity, 3D Technology, Android, App Discovery, Application Performance Management, Apps, Artificial Intelligence, Augmented Reality, Billing, Bitcoin, Browser Extensions, CAD, Cloud Computing, Cloud Management, CMS, Computer Vision, Consumer Applications, Consumer Software, Contact Management, CRM, Cryptocurrency, Data Center Automation, Data Integration, Data Storage, Data Visualization, Database, Developer APIs, Developer Platform, Developer Tools, Document Management, Drone Management, E-Learning, EdTech, Electronic Design Automation (EDA), Embedded Software, Embedded Systems, Enterprise Applications, Enterprise Resource Planning (ERP), Enterprise Software, Facial Recognition, File Sharing, IaaS, Image Recognition, iOS, Linux, Machine Learning, macOS, Marketing Automation, Meeting Software, Mobile Apps, Mobile Payments, MOOC, Natural Language Processing, Open Source, Operating Systems, PaaS, Predictive Analytics, Presentation Software, Presentations, Private Cloud, Productivity Tools, QR Codes, Reading Apps, Retail Technology, Robotics, SaaS, Sales Automation, Scheduling, Sex Tech, Simulation, SNS, Social CRM, Software, Software Engineering, Speech Recognition, Task Management, Text Analytics, Transaction Processing, Video Conferencing, Virtual Assistant, Virtual Currency, Virtual Desktop, Virtual Goods, Virtual Reality, Virtual World, Virtualization, Web Apps, Web Browsers, Web Development').split(', ')\n",
    "sports = str('American Football, Baseball, Basketball, Boating, Cricket, Cycling, Diving, eSports, Fantasy Sports, Fitness, Golf, Hockey, Hunting, Outdoors, Racing, Recreation, Rugby, Sailing, Skiing, Soccer, Sporting Goods, Sports, Surfing, Swimming, Table Tennis, Tennis, Ultimate Frisbee, Volley Ball').split(', ')\n",
    "sustainability = str('Green, Wind, Biomass Power Generation, Renewable Tech, Environmental Innovation, Renewable Energies, Clean Technology, Biofuel, Biomass Energy, Clean Energy, CleanTech, Energy Efficiency, Environmental Engineering, Green Building, Green Consumer Goods, GreenTech, Natural Resources, Organic, Pollution Control, Recycling, Renewable Energy, Solar, Sustainability, Waste Management, Water Purification, Wind Energy').split(', ')\n",
    "transportation = str('Taxis, Air Transportation, Automotive, Autonomous Vehicles, Car Sharing, Courier Service, Delivery Service, Electric Vehicle, Ferry Service, Fleet Management, Food Delivery, Freight Service, Last Mile Transportation, Limousine Service, Logistics, Marine Transportation, Parking, Ports and Harbors, Procurement, Public Transportation, Railroad, Recreational Vehicles, Ride Sharing, Same Day Delivery, Shipping, Shipping Broker, Space Travel, Supply Chain Management, Taxi Service, Transportation, Warehousing, Water Transportation').split(', ')\n",
    "travel = str('Adventure Travel, Amusement Park and Arcade, Business Travel, Casino, Hospitality, Hotel, Museums and Historical Sites, Parks, Resorts, Timeshare, Tour Operator, Tourism, Travel, Travel Accommodations, Travel Agency, Vacation Rental').split(', ')\n",
    "video = str('Animation, Broadcasting, Film, Film Distribution, Film Production, Motion Capture, TV, TV Production, Video, Video Editing, Video on Demand, Video Streaming').split(', ')"
   ]
  },
  {
   "cell_type": "code",
   "execution_count": null,
   "id": "74b6b235",
   "metadata": {},
   "outputs": [],
   "source": [
    "import re \n",
    "data['Industry_Group'] = pd.np.where(data.market.str.contains('|'.join(admin_services), flags=re.IGNORECASE), \"Administrative Services\",\n",
    "                               pd.np.where(data.market.str.contains('|'.join(software), flags=re.IGNORECASE), \"Software\", \n",
    "                               pd.np.where(data.market.str.contains('|'.join(advertising), flags=re.IGNORECASE), \"Advertising\",\n",
    "                               pd.np.where(data.market.str.contains('|'.join(agriculture), flags=re.IGNORECASE), \"Agriculture and Farming\",\n",
    "                               pd.np.where(data.market.str.contains('|'.join(app), flags=re.IGNORECASE), \"Apps\", \n",
    "                               pd.np.where(data.market.str.contains('|'.join(artificial_intelli), flags=re.IGNORECASE), \"Artificial Intelligence\", \n",
    "                               pd.np.where(data.market.str.contains('|'.join(biotechnology), flags=re.IGNORECASE), \"Biotechnology\", \n",
    "                               pd.np.where(data.market.str.contains('|'.join(clothing), flags=re.IGNORECASE), \"Clothing and Apparel\", \n",
    "                               pd.np.where(data.market.str.contains('|'.join(shopping), flags=re.IGNORECASE), \"Commerce and Shopping\", \n",
    "                               pd.np.where(data.market.str.contains('|'.join(community), flags=re.IGNORECASE), \"Community and Lifestyle\", \n",
    "                               pd.np.where(data.market.str.contains('|'.join(electronics), flags=re.IGNORECASE), \"Consumer Electronics\", \n",
    "                               pd.np.where(data.market.str.contains('|'.join(consumer_goods), flags=re.IGNORECASE), \"Consumer Goods\", \n",
    "                               pd.np.where(data.market.str.contains('|'.join(content), flags=re.IGNORECASE), \"Content and Publishing\", \n",
    "                               pd.np.where(data.market.str.contains('|'.join(data), flags=re.IGNORECASE), \"Data and Analytics\",\n",
    "                               pd.np.where(data.market.str.contains('|'.join(design), flags=re.IGNORECASE), \"Design\", \n",
    "                               pd.np.where(data.market.str.contains('|'.join(education), flags=re.IGNORECASE), \"Education\", \n",
    "                               pd.np.where(data.market.str.contains('|'.join(energy), flags=re.IGNORECASE), \"Energy\", \n",
    "                               pd.np.where(data.market.str.contains('|'.join(events), flags=re.IGNORECASE), \"Events\", \n",
    "                               pd.np.where(data.market.str.contains('|'.join(financial), flags=re.IGNORECASE), \"Financial Services\",\n",
    "                               pd.np.where(data.market.str.contains('|'.join(food), flags=re.IGNORECASE), \"Food and Beverage\", \n",
    "                               pd.np.where(data.market.str.contains('|'.join(gaming), flags=re.IGNORECASE), \"Gaming\", \n",
    "                               pd.np.where(data.market.str.contains('|'.join(government), flags=re.IGNORECASE), \"Government and Military\", \n",
    "                               pd.np.where(data.market.str.contains('|'.join(hardware), flags=re.IGNORECASE), \"Hardware\",\n",
    "                               pd.np.where(data.market.str.contains('|'.join(health_care), flags=re.IGNORECASE), \"Health Care\",\n",
    "                               pd.np.where(data.market.str.contains('|'.join(it), flags=re.IGNORECASE), \"Information Technology\", \n",
    "                               pd.np.where(data.market.str.contains('|'.join(internet), flags=re.IGNORECASE), \"Internet Services\", \n",
    "                               pd.np.where(data.market.str.contains('|'.join(invest), flags=re.IGNORECASE), \"Lending and Investments\", \n",
    "                               pd.np.where(data.market.str.contains('|'.join(manufacturing), flags=re.IGNORECASE), \"Manufacturing\",\n",
    "                               pd.np.where(data.market.str.contains('|'.join(media), flags=re.IGNORECASE), \"Media and Entertainment\",\n",
    "                               pd.np.where(data.market.str.contains('|'.join(message), flags=re.IGNORECASE), \"Messaging and Telecommunication\", \n",
    "                               pd.np.where(data.market.str.contains('|'.join(mobile), flags=re.IGNORECASE), \"Mobile\", \n",
    "                               pd.np.where(data.market.str.contains('|'.join(music), flags=re.IGNORECASE), \"Music and Audio\", \n",
    "                               pd.np.where(data.market.str.contains('|'.join(resource), flags=re.IGNORECASE), \"Natural Resources\",\n",
    "                               pd.np.where(data.market.str.contains('|'.join(navigation), flags=re.IGNORECASE), \"Navigation and Mapping\",\n",
    "                               pd.np.where(data.market.str.contains('|'.join(payment), flags=re.IGNORECASE), \"Payments\", \n",
    "                               pd.np.where(data.market.str.contains('|'.join(platforms), flags=re.IGNORECASE), \"Platforms\", \n",
    "                               pd.np.where(data.market.str.contains('|'.join(privacy), flags=re.IGNORECASE), \"Privacy and Security\", \n",
    "                               pd.np.where(data.market.str.contains('|'.join(services), flags=re.IGNORECASE), \"Professional Services\",\n",
    "                               pd.np.where(data.market.str.contains('|'.join(realestate), flags=re.IGNORECASE), \"Real Estate\", \n",
    "                               pd.np.where(data.market.str.contains('|'.join(sales), flags=re.IGNORECASE), \"Sales and Marketing\", \n",
    "                               pd.np.where(data.market.str.contains('|'.join(science), flags=re.IGNORECASE), \"Science and Engineering\", \n",
    "                               pd.np.where(data.market.str.contains('|'.join(sports), flags=re.IGNORECASE), \"Sports\",\n",
    "                               pd.np.where(data.market.str.contains('|'.join(sustainability), flags=re.IGNORECASE), \"Sustainability\", \n",
    "                               pd.np.where(data.market.str.contains('|'.join(transportation), flags=re.IGNORECASE), \"Transportation\", \n",
    "                               pd.np.where(data.market.str.contains('|'.join(travel), flags=re.IGNORECASE), \"Travel and Tourism\", \n",
    "                               pd.np.where(data.market.str.contains('|'.join(video), flags=re.IGNORECASE), \"Video\",\n",
    "                               pd.np.where(data.market.str.contains('|'.join(other), flags=re.IGNORECASE), \"Other\",  \"Other\")))))))))))))))))))))))))))))))))))))))))))))))"
   ]
  },
  {
   "cell_type": "code",
   "execution_count": null,
   "id": "3e9197c0",
   "metadata": {},
   "outputs": [],
   "source": [
    "data['Industry_Group'].nunique()"
   ]
  },
  {
   "cell_type": "code",
   "execution_count": null,
   "id": "94d4bfc9",
   "metadata": {},
   "outputs": [],
   "source": [
    "data = data[data['funding_total_usd'] != ' -   ']\n",
    "data = data.reset_index(drop=True)\n",
    "data = data.drop_duplicates(subset=['name', 'homepage_url', 'Industry_Group'])"
   ]
  },
  {
   "cell_type": "code",
   "execution_count": null,
   "id": "af48925d",
   "metadata": {},
   "outputs": [],
   "source": [
    "#data[data[['name', 'homepage_url', 'Industry_Group']].duplicated()]"
   ]
  },
  {
   "cell_type": "code",
   "execution_count": null,
   "id": "54fde549",
   "metadata": {},
   "outputs": [],
   "source": [
    "data"
   ]
  },
  {
   "cell_type": "code",
   "execution_count": null,
   "id": "d88d56f0",
   "metadata": {},
   "outputs": [],
   "source": [
    "data.columns"
   ]
  },
  {
   "cell_type": "code",
   "execution_count": null,
   "id": "0165a95f",
   "metadata": {},
   "outputs": [],
   "source": [
    "columns_to_save = ['funding_total_usd',\n",
    "       'status', 'country_code', 'funding_rounds', 'founded_at',\n",
    "       'first_funding_at', 'last_funding_at', 'Industry_Group']\n",
    "data = data[columns_to_save]"
   ]
  },
  {
   "cell_type": "code",
   "execution_count": null,
   "id": "cb811a80",
   "metadata": {},
   "outputs": [],
   "source": [
    "data[['Industry_Group']].value_counts()"
   ]
  },
  {
   "cell_type": "code",
   "execution_count": null,
   "id": "4693f3dc",
   "metadata": {},
   "outputs": [],
   "source": [
    "data['time_between_first_last_funding'] = (pd.to_datetime(data['last_funding_at'], format='%m/%d/%y', errors=\"coerce\") - pd.to_datetime(data['first_funding_at'], errors=\"coerce\")).dt.days"
   ]
  },
  {
   "cell_type": "code",
   "execution_count": null,
   "id": "cdcfa76c",
   "metadata": {},
   "outputs": [],
   "source": [
    "data.isna().sum()"
   ]
  },
  {
   "cell_type": "code",
   "execution_count": null,
   "id": "4074a049",
   "metadata": {},
   "outputs": [],
   "source": [
    "data['founded_at'].fillna(data['first_funding_at'], inplace=True)"
   ]
  },
  {
   "cell_type": "code",
   "execution_count": null,
   "id": "96136b5d",
   "metadata": {},
   "outputs": [],
   "source": [
    "data.isna().sum()"
   ]
  },
  {
   "cell_type": "code",
   "execution_count": null,
   "id": "26ae4f2a",
   "metadata": {},
   "outputs": [],
   "source": [
    "data.dropna(subset=['time_between_first_last_funding'], inplace=True)"
   ]
  },
  {
   "cell_type": "code",
   "execution_count": null,
   "id": "b381e9ce",
   "metadata": {},
   "outputs": [],
   "source": [
    "#most_recent_date = pd.to_datetime(data['last_funding_at'], format='%m/%d/%y', errors=\"coerce\").max()\n",
    "#data['years_in_business'] = (pd.to_datetime(data['last_funding_at'], format='%m/%d/%y', errors=\"coerce\") - pd.to_datetime(data['founded_at'], errors=\"coerce\")).dt.days"
   ]
  },
  {
   "cell_type": "code",
   "execution_count": null,
   "id": "5a1d55bf",
   "metadata": {},
   "outputs": [],
   "source": [
    "# Convert date columns to datetime with the correct format\n",
    "date_columns = ['founded_at', 'first_funding_at', 'last_funding_at']\n",
    "data[date_columns] = data[date_columns].apply(pd.to_datetime, format='%m/%d/%y', errors='coerce')\n",
    "# Filter out rows with NaT values (invalid dates)\n",
    "data = data.dropna(subset=date_columns, how='any')\n",
    "data"
   ]
  },
  {
   "cell_type": "code",
   "execution_count": null,
   "id": "8c72f855",
   "metadata": {},
   "outputs": [],
   "source": [
    "#data[['founded_at']].hist()"
   ]
  },
  {
   "cell_type": "code",
   "execution_count": null,
   "id": "818fd001",
   "metadata": {},
   "outputs": [],
   "source": [
    "#data[data['time_between_first_last_funding'] >= 0]"
   ]
  },
  {
   "cell_type": "code",
   "execution_count": null,
   "id": "a12ba5f5",
   "metadata": {},
   "outputs": [],
   "source": [
    "start_date = '1990-01-01'\n",
    "end_date = '2015-12-30'\n",
    "\n",
    "# Select DataFrame rows between two dates\n",
    "mask1 = (data['founded_at'] > start_date) & (data['founded_at'] <= end_date)\n",
    "data = data.loc[mask1]"
   ]
  },
  {
   "cell_type": "code",
   "execution_count": null,
   "id": "52dbca89",
   "metadata": {},
   "outputs": [],
   "source": [
    "mask2 = (data['first_funding_at'] > start_date) & (data['first_funding_at'] <= end_date) & (data['last_funding_at'] > start_date) & (data['last_funding_at'] <= end_date)\n",
    "data = data.loc[mask2]"
   ]
  },
  {
   "cell_type": "code",
   "execution_count": null,
   "id": "975dc552",
   "metadata": {},
   "outputs": [],
   "source": [
    "data = data[data['first_funding_at'] <= data['last_funding_at']]"
   ]
  },
  {
   "cell_type": "code",
   "execution_count": null,
   "id": "a6283b75",
   "metadata": {},
   "outputs": [],
   "source": [
    "reference_date = pd.to_datetime(end_date)"
   ]
  },
  {
   "cell_type": "code",
   "execution_count": null,
   "id": "5a26bea3",
   "metadata": {},
   "outputs": [],
   "source": [
    "data['days_in_business'] = (reference_date - data['founded_at']).dt.days"
   ]
  },
  {
   "cell_type": "code",
   "execution_count": null,
   "id": "54a225fd",
   "metadata": {},
   "outputs": [],
   "source": [
    "data = data.reset_index(drop=True)"
   ]
  },
  {
   "cell_type": "code",
   "execution_count": null,
   "id": "42dfec8a",
   "metadata": {},
   "outputs": [],
   "source": [
    "data = data.drop(columns=['founded_at', 'first_funding_at', 'last_funding_at'])"
   ]
  },
  {
   "cell_type": "code",
   "execution_count": null,
   "id": "ae1caeec",
   "metadata": {},
   "outputs": [],
   "source": [
    "data"
   ]
  },
  {
   "cell_type": "code",
   "execution_count": null,
   "id": "b194ea48",
   "metadata": {},
   "outputs": [],
   "source": [
    "data.dtypes"
   ]
  },
  {
   "cell_type": "code",
   "execution_count": null,
   "id": "0227c4c1",
   "metadata": {},
   "outputs": [],
   "source": [
    "#change to numeric \n",
    "data['funding_total_usd'] = pd.to_numeric(data['funding_total_usd'], errors='coerce')\n",
    "# Convert 'time_between_first_last_funding' column to integer\n",
    "data['time_between_first_last_funding'] = data['time_between_first_last_funding'].astype('Int64')\n",
    "data['funding_rounds'] = data['funding_rounds'].astype('Int64', errors='ignore')"
   ]
  },
  {
   "cell_type": "code",
   "execution_count": null,
   "id": "5a5811fb",
   "metadata": {},
   "outputs": [],
   "source": [
    "data"
   ]
  },
  {
   "cell_type": "code",
   "execution_count": null,
   "id": "b419c3fd",
   "metadata": {},
   "outputs": [],
   "source": [
    "data.dtypes"
   ]
  },
  {
   "cell_type": "code",
   "execution_count": null,
   "id": "0d200ef4",
   "metadata": {
    "scrolled": false
   },
   "outputs": [],
   "source": [
    "plt.figure(figsize=(16, 6))\n",
    "\n",
    "# Plot distribution by Industry Group\n",
    "plt.subplot(1, 3, 1)\n",
    "industry_counts = data[\"Industry_Group\"].value_counts()\n",
    "industry_counts.plot(kind=\"bar\")\n",
    "plt.title(\"Distribution by Industry Group\")\n",
    "plt.xlabel(\"Industry Group\")\n",
    "plt.ylabel(\"Number of Startups\")\n",
    "plt.xticks(rotation=45, ha=\"right\")\n",
    "\n",
    "# Plot distribution by Country Code\n",
    "plt.subplot(1, 3, 2)\n",
    "country_counts = data[\"country_code\"].value_counts()\n",
    "country_counts.plot(kind=\"bar\")\n",
    "plt.title(\"Distribution by Country Code\")\n",
    "plt.xlabel(\"Country Code\")\n",
    "plt.ylabel(\"Number of Startups\")\n",
    "plt.xticks(rotation=0)\n",
    "\n",
    "# Plot distribution by Status\n",
    "plt.subplot(1, 3, 3)\n",
    "status_counts = data[\"status\"].value_counts()\n",
    "status_counts.plot(kind=\"bar\")\n",
    "plt.title(\"Distribution by Status\")\n",
    "plt.xlabel(\"Status\")\n",
    "plt.ylabel(\"Number of Startups\")\n",
    "plt.xticks(rotation=0)\n",
    "\n",
    "# Adjust spacing between subplots\n",
    "plt.tight_layout(w_pad=4)\n",
    "\n",
    "plt.show()"
   ]
  },
  {
   "cell_type": "code",
   "execution_count": null,
   "id": "e744ce48",
   "metadata": {},
   "outputs": [],
   "source": [
    "pivot_table = data.pivot_table(index=\"country_code\", columns=\"status\", values=\"funding_total_usd\", aggfunc=\"count\", fill_value=0)\n",
    "\n",
    "# Create a stacked bar plot\n",
    "plt.figure(figsize=(10, 6))\n",
    "pivot_table.plot(kind=\"bar\", stacked=True)\n",
    "plt.title(\"Distribution of Status by Country Code\")\n",
    "plt.xlabel(\"Country Code\")\n",
    "plt.ylabel(\"Number of Startups\")\n",
    "plt.xticks(rotation=0)\n",
    "plt.legend(title=\"Status\")\n",
    "\n",
    "plt.tight_layout()\n",
    "plt.show()"
   ]
  },
  {
   "cell_type": "code",
   "execution_count": null,
   "id": "3d2b4294",
   "metadata": {},
   "outputs": [],
   "source": [
    "data"
   ]
  },
  {
   "cell_type": "code",
   "execution_count": null,
   "id": "895db1cd",
   "metadata": {},
   "outputs": [],
   "source": [
    "rounds_threshold_us = int(data.groupby(['country_code','status'])['funding_rounds'].describe().iloc[0][1])\n",
    "rounds_threshold_us"
   ]
  },
  {
   "cell_type": "code",
   "execution_count": null,
   "id": "509c0004",
   "metadata": {},
   "outputs": [],
   "source": [
    "data.groupby(['country_code','status'])['funding_rounds'].describe()"
   ]
  },
  {
   "cell_type": "code",
   "execution_count": null,
   "id": "b3392756",
   "metadata": {},
   "outputs": [],
   "source": [
    "rounds_threshold_us = int(data.groupby(['country_code','status'])['funding_rounds'].describe().iloc[3][1])\n",
    "rounds_threshold_other = int(data.groupby(['country_code','status'])['funding_rounds'].describe().iloc[0][1])\n",
    "fundings_threshold_us = data.groupby(['country_code','status'])['funding_total_usd'].describe().iloc[3][4]\n",
    "fundings_threshold_other = data.groupby(['country_code','status'])['funding_total_usd'].describe().iloc[0][4]\n",
    "\n",
    "data.loc[data['status'] == 'acquired', 'Success_failure'] = 1 \n",
    "data.loc[data['status'] == 'closed', 'Success_failure'] = 0\n",
    "\n",
    "data.loc[(data['status'] == 'operating') & (data['country_code'] == 'USA') & (data['funding_total_usd'] >= int(fundings_threshold_us)) & (data['funding_rounds'] >= int(rounds_threshold_us)), 'Success_failure'] = 1\n",
    "data.loc[(data['status'] == 'operating') & (data['country_code'] == 'Other') & (data['funding_total_usd'] >= int(fundings_threshold_other)) & (data['funding_rounds'] >= int(rounds_threshold_other-1)), 'Success_failure'] = 1\n",
    "\n",
    "data['Success_failure'] = data['Success_failure'].fillna(0)"
   ]
  },
  {
   "cell_type": "code",
   "execution_count": null,
   "id": "12f7b2da",
   "metadata": {
    "scrolled": true
   },
   "outputs": [],
   "source": [
    "encoded_data = pd.get_dummies(data, columns=[\"country_code\"], prefix=[\"country\"], drop_first=True)\n",
    "\n",
    "encoded_data = pd.get_dummies(data, columns=[\"Industry_Group\"], prefix=[\"industry\"])\n"
   ]
  },
  {
   "cell_type": "code",
   "execution_count": null,
   "id": "1473b9cc",
   "metadata": {
    "scrolled": true
   },
   "outputs": [],
   "source": [
    "encoded_data.shape"
   ]
  },
  {
   "cell_type": "code",
   "execution_count": null,
   "id": "1d4ac410",
   "metadata": {},
   "outputs": [],
   "source": [
    "encoded_data"
   ]
  },
  {
   "cell_type": "code",
   "execution_count": null,
   "id": "146aef38",
   "metadata": {},
   "outputs": [],
   "source": [
    "encoded_data[\"Success_failure\"] = encoded_data[\"Success_failure\"].astype(int)"
   ]
  },
  {
   "cell_type": "code",
   "execution_count": null,
   "id": "91226c15",
   "metadata": {},
   "outputs": [],
   "source": [
    "from sklearn.preprocessing import MinMaxScaler"
   ]
  },
  {
   "cell_type": "code",
   "execution_count": null,
   "id": "2382da2c",
   "metadata": {},
   "outputs": [],
   "source": [
    "# Select numerical features for standardization\n",
    "numerical_features = [\"funding_total_usd\", \"funding_rounds\", \"time_between_first_last_funding\", \"days_in_business\"]\n",
    "\n",
    "# Initialize StandardScaler\n",
    "scaler = MinMaxScaler()\n",
    "\n",
    "# Standardize the selected features\n",
    "encoded_data[numerical_features] = scaler.fit_transform(encoded_data[numerical_features])"
   ]
  },
  {
   "cell_type": "code",
   "execution_count": null,
   "id": "c04135ad",
   "metadata": {},
   "outputs": [],
   "source": [
    "encoded_data"
   ]
  },
  {
   "cell_type": "code",
   "execution_count": null,
   "id": "9b10055e",
   "metadata": {},
   "outputs": [],
   "source": [
    "\"\"\"\n",
    "encoded_data[\"funding_per_round\"] = encoded_data[\"funding_total_usd\"] / encoded_data[\"funding_rounds\"]\n",
    "\n",
    "# Define the time interval categories\n",
    "bins = [-1, 30, 90, float(\"inf\")]  # Short, Medium, Long\n",
    "\n",
    "# Create the categorical feature\n",
    "encoded_data[\"time_interval_category\"] = pd.cut(encoded_data[\"time_between_first_last_funding\"], bins=bins, labels=[\"Short\", \"Medium\", \"Long\"])\n",
    "\n",
    "\n",
    "\n",
    "\n",
    "\n",
    "\n",
    "encoded_data[\"total_duration\"] = encoded_data[\"time_between_first_last_funding\"] + 1  # Add 1 to avoid division by zero\n",
    "encoded_data[\"funding_frequency\"] = encoded_data[\"funding_rounds\"] / encoded_data[\"total_duration\"]\n",
    "\"\"\""
   ]
  },
  {
   "cell_type": "code",
   "execution_count": null,
   "id": "d106f00e",
   "metadata": {},
   "outputs": [],
   "source": [
    "#correlation_matrix = encoded_data.corr()\n",
    "\n",
    "# Create a heatmap of the correlation matrix\n",
    "#plt.figure(figsize=(40, 26\n",
    "                   #))\n",
    "#sns.heatmap(correlation_matrix, annot=True, cmap=\"coolwarm\", center=0)\n",
    "#plt.title(\"Correlation Matrix\")\n",
    "#plt.show()"
   ]
  },
  {
   "cell_type": "code",
   "execution_count": null,
   "id": "0675bcb9",
   "metadata": {},
   "outputs": [],
   "source": [
    "#from sklearn.preprocessing import LabelEncoder\n",
    "# Perform label encoding for the 'status' column\n",
    "#label_encoder = LabelEncoder()\n",
    "#encoded_data[\"status_encoded\"] = label_encoder.fit_transform(encoded_data[\"status\"])\n",
    "\n",
    "# Perform one-hot encoding for the 'country_code' column\n",
    "encoded_data = pd.get_dummies(encoded_data, columns=[\"country_code\"], prefix=[\"country\"], drop_first=True)"
   ]
  },
  {
   "cell_type": "code",
   "execution_count": null,
   "id": "3ebb7c22",
   "metadata": {},
   "outputs": [],
   "source": [
    "encoded_data.drop(columns=[\"status\"])"
   ]
  },
  {
   "cell_type": "code",
   "execution_count": null,
   "id": "6815826d",
   "metadata": {},
   "outputs": [],
   "source": [
    "y = encoded_data[\"Success_failure\"]\n",
    "X = encoded_data.drop(columns=[\"Success_failure\"])\n",
    "from sklearn.model_selection import train_test_split\n",
    "# Split data into training and testing sets\n",
    "X_train, X_test, y_train, y_test = train_test_split(X, y, test_size=0.2, random_state=42)"
   ]
  },
  {
   "cell_type": "code",
   "execution_count": null,
   "id": "c7dccaf0",
   "metadata": {},
   "outputs": [],
   "source": [
    "encoded_data"
   ]
  },
  {
   "cell_type": "code",
   "execution_count": null,
   "id": "03fb51a2",
   "metadata": {},
   "outputs": [],
   "source": [
    "from sklearn.ensemble import RandomForestClassifier\n",
    "from sklearn.metrics import accuracy_score\n",
    "\n",
    "# Create a Random Forest classifier as the base model\n",
    "base_model = RandomForestClassifier(random_state=42)\n",
    "\n",
    "# Train the model on the training data\n",
    "base_model.fit(X_train, y_train)\n",
    "\n"
   ]
  },
  {
   "cell_type": "code",
   "execution_count": null,
   "id": "6c98ad13",
   "metadata": {},
   "outputs": [],
   "source": [
    "# Train the model on the training data\n",
    "#base_model.fit(X_train, y_train)\n",
    "\n",
    "# Make predictions on the testing data\n",
    "y_pred = base_model.predict(X_test)\n",
    "\n",
    "# Evaluate the model\n",
    "accuracy = accuracy_score(y_test, y_pred)\n",
    "print(\"Accuracy:\", accuracy)"
   ]
  },
  {
   "cell_type": "code",
   "execution_count": null,
   "id": "0065d20c",
   "metadata": {},
   "outputs": [],
   "source": [
    "import numpy as np\n",
    "from sklearn.model_selection import cross_validate\n",
    "from sklearn.inspection import permutation_importance\n",
    "from sklearn.linear_model import LogisticRegression\n",
    "\n",
    "model = RandomForestClassifier(random_state=42)\n",
    "\n",
    "cv_results = cross_validate(model, X_train, y_train, cv = 5)\n",
    "\n",
    "score = cv_results[\"test_score\"].mean()\n",
    "print(f\"Before any feature permutation, the cross-validated accuracy is equal to {round(score,2)}\")\n",
    "\n",
    "## Question 1 - Permutation importance\n",
    "model = LogisticRegression().fit(X_train,y_train) # Fit the model\n",
    "\n",
    "permutation_score = permutation_importance(model, X_train, y_train, n_repeats=100) # Perform Permutation\n",
    "\n",
    "importance_df = pd.DataFrame(np.vstack((X_train.columns,\n",
    "                                        permutation_score.importances_mean)).T, # Unstack results\n",
    "                            columns = ['feature','feature_importance']) \n",
    "\n",
    "print(\"After feature permutation, here are the decreases in terms of scores:\")\n",
    "importance_df = importance_df.sort_values(by=\"feature_importance\", ascending = False) # Order by importance\n",
    "importance_df"
   ]
  },
  {
   "cell_type": "code",
   "execution_count": null,
   "id": "75073c68",
   "metadata": {},
   "outputs": [],
   "source": [
    "# I want to get rid of features which caused less than this  in terms of performance\n",
    "threshold = 0.01\n",
    "\n",
    "# Decompose this one-liner piece of code step by step if you don't understand it at first sight!\n",
    "weak_features = importance_df[importance_df.feature_importance <= threshold][\"feature\"].values\n",
    "weak_features"
   ]
  },
  {
   "cell_type": "code",
   "execution_count": null,
   "id": "391c2486",
   "metadata": {},
   "outputs": [],
   "source": [
    "from sklearn.model_selection import cross_val_score\n",
    "\n",
    "## Question 3 - Cross validating the model with strong features only\n",
    "X_strong_features = X_train.drop(columns=list(weak_features))\n",
    "\n",
    "print(f\"Our strong features are {list(X_strong_features.columns)}\")\n",
    "\n",
    "model = RandomForestClassifier(random_state=42)\n",
    "\n",
    "scores = cross_val_score(model, X_strong_features, y_train, cv = 5)\n",
    "strong_model_score = scores.mean()\n",
    "\n",
    "print(f\"Before removing weak features, the cross-validated accuracy was equal to {round(score,2)}\")\n",
    "\n",
    "print(f\"The RandomForestClassifier fitted with the strong features only has a score of {round(strong_model_score,2)}\")"
   ]
  },
  {
   "cell_type": "code",
   "execution_count": null,
   "id": "47981947",
   "metadata": {},
   "outputs": [],
   "source": [
    "X_strong_features_test = X_test.drop(columns=list(weak_features))\n",
    "\n",
    "model.fit(X_strong_features, y_train)\n",
    "\n",
    "# Make predictions on the testing data\n",
    "y_pred = model.predict(X_strong_features_test)\n",
    "\n",
    "# Evaluate the model\n",
    "accuracy = accuracy_score(y_test, y_pred)\n",
    "print(\"Accuracy:\", accuracy)"
   ]
  },
  {
   "cell_type": "code",
   "execution_count": null,
   "id": "f6147f90",
   "metadata": {},
   "outputs": [],
   "source": []
  }
 ],
 "metadata": {
  "kernelspec": {
   "display_name": "Python 3 (ipykernel)",
   "language": "python",
   "name": "python3"
  },
  "language_info": {
   "codemirror_mode": {
    "name": "ipython",
    "version": 3
   },
   "file_extension": ".py",
   "mimetype": "text/x-python",
   "name": "python",
   "nbconvert_exporter": "python",
   "pygments_lexer": "ipython3",
   "version": "3.10.6"
  },
  "toc": {
   "base_numbering": 1,
   "nav_menu": {},
   "number_sections": true,
   "sideBar": true,
   "skip_h1_title": false,
   "title_cell": "Table of Contents",
   "title_sidebar": "Contents",
   "toc_cell": false,
   "toc_position": {},
   "toc_section_display": true,
   "toc_window_display": false
  }
 },
 "nbformat": 4,
 "nbformat_minor": 5
}
